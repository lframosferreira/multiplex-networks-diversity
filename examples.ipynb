{
 "cells": [
  {
   "cell_type": "markdown",
   "metadata": {},
   "source": [
    "# Examples contained in the main paper"
   ]
  },
  {
   "cell_type": "code",
   "execution_count": 7,
   "metadata": {},
   "outputs": [],
   "source": [
    "from diversity_measure import *\n",
    "import numpy as np"
   ]
  },
  {
   "cell_type": "code",
   "execution_count": 14,
   "metadata": {},
   "outputs": [],
   "source": [
    "def pipeline(graphs_list):\n",
    "    ndds = []\n",
    "    tms = []\n",
    "    for graph in graphs_list:\n",
    "        ndds.append(node_distance_distribution(graph))\n",
    "        tms.append(transition_matrix(graph))\n",
    "    combinations = itertools.combinations(range(len(graphs_list)), 2)\n",
    "    ld = np.zeros((len(graphs_list), len(graphs_list)))\n",
    "    for i, j in combinations:\n",
    "        ld[i, j] = ld[j, i] = layer_difference(ndds[i], tms[i], ndds[j], tms[j])\n",
    "    return ld"
   ]
  },
  {
   "cell_type": "markdown",
   "metadata": {},
   "source": [
    "# Figure 1"
   ]
  },
  {
   "cell_type": "code",
   "execution_count": 15,
   "metadata": {},
   "outputs": [],
   "source": [
    "p_a = np.zeros((6, 6), dtype=np.int32)\n",
    "p_a[1, [4, 5]] = 1\n",
    "p_a[3, 4] = 1\n",
    "p_a[4, 5] = 1\n",
    "p_a = np.maximum(p_a, p_a.transpose())\n",
    "\n",
    "q_a = np.zeros((6, 6), dtype=np.int32)\n",
    "q_a[0, [1, 3, 4]] = 1\n",
    "q_a = np.maximum(q_a, q_a.transpose())"
   ]
  },
  {
   "cell_type": "code",
   "execution_count": 16,
   "metadata": {},
   "outputs": [
    {
     "name": "stderr",
     "output_type": "stream",
     "text": [
      "/home/lfrf/Projects/multiplex-networks-diversity/diversity_measure.py:47: RuntimeWarning: invalid value encountered in divide\n",
      "  transition_matrix: npt.NDArray[np.float_] = graph / np.sum(graph, axis=0)[:, None]\n",
      "/home/lfrf/anaconda3/envs/multiplex-networks-diversity/lib/python3.9/site-packages/scipy/spatial/distance.py:1290: RuntimeWarning: invalid value encountered in divide\n",
      "  p = p / np.sum(p, axis=axis, keepdims=True)\n",
      "/home/lfrf/anaconda3/envs/multiplex-networks-diversity/lib/python3.9/site-packages/scipy/spatial/distance.py:1291: RuntimeWarning: invalid value encountered in divide\n",
      "  q = q / np.sum(q, axis=axis, keepdims=True)\n"
     ]
    },
    {
     "data": {
      "text/plain": [
       "array([[0.        , 0.39799752],\n",
       "       [0.39799752, 0.        ]])"
      ]
     },
     "execution_count": 16,
     "metadata": {},
     "output_type": "execute_result"
    }
   ],
   "source": [
    "pipeline([p_a, q_a])"
   ]
  },
  {
   "cell_type": "code",
   "execution_count": null,
   "metadata": {},
   "outputs": [
    {
     "name": "stderr",
     "output_type": "stream",
     "text": [
      "/home/lfrf/anaconda3/envs/multiplex-networks-diversity/lib/python3.9/site-packages/scipy/spatial/distance.py:1291: RuntimeWarning: invalid value encountered in divide\n",
      "  q = q / np.sum(q, axis=axis, keepdims=True)\n"
     ]
    },
    {
     "data": {
      "text/plain": [
       "0.2155"
      ]
     },
     "execution_count": 10,
     "metadata": {},
     "output_type": "execute_result"
    }
   ],
   "source": [
    "layer_difference(ndda, tma, nddb, tmb)"
   ]
  }
 ],
 "metadata": {
  "kernelspec": {
   "display_name": "mestrado",
   "language": "python",
   "name": "python3"
  },
  "language_info": {
   "codemirror_mode": {
    "name": "ipython",
    "version": 3
   },
   "file_extension": ".py",
   "mimetype": "text/x-python",
   "name": "python",
   "nbconvert_exporter": "python",
   "pygments_lexer": "ipython3",
   "version": "3.9.17"
  },
  "orig_nbformat": 4
 },
 "nbformat": 4,
 "nbformat_minor": 2
}
